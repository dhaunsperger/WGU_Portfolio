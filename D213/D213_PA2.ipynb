{
 "cells": [
  {
   "cell_type": "code",
   "execution_count": 1,
   "id": "846333cd-041f-4660-a74f-376985c8f930",
   "metadata": {
    "tags": []
   },
   "outputs": [],
   "source": [
    "import tensorflow as tf"
   ]
  },
  {
   "cell_type": "code",
   "execution_count": 2,
   "id": "d8cf3553-ae21-47c2-872d-2269f387be82",
   "metadata": {
    "tags": []
   },
   "outputs": [
    {
     "data": {
      "text/plain": [
       "[PhysicalDevice(name='/physical_device:CPU:0', device_type='CPU')]"
      ]
     },
     "execution_count": 2,
     "metadata": {},
     "output_type": "execute_result"
    }
   ],
   "source": [
    "tf.config.list_physical_devices()"
   ]
  },
  {
   "cell_type": "code",
   "execution_count": 3,
   "id": "ba3e765c-398c-4064-b8e6-6fd22e4f47df",
   "metadata": {},
   "outputs": [
    {
     "name": "stderr",
     "output_type": "stream",
     "text": [
      "[nltk_data] Downloading package stopwords to\n",
      "[nltk_data]     C:\\Users\\dough\\AppData\\Roaming\\nltk_data...\n",
      "[nltk_data]   Package stopwords is already up-to-date!\n",
      "[nltk_data] Downloading package punkt to\n",
      "[nltk_data]     C:\\Users\\dough\\AppData\\Roaming\\nltk_data...\n",
      "[nltk_data]   Package punkt is already up-to-date!\n",
      "[nltk_data] Downloading package wordnet to\n",
      "[nltk_data]     C:\\Users\\dough\\AppData\\Roaming\\nltk_data...\n",
      "[nltk_data]   Package wordnet is already up-to-date!\n"
     ]
    },
    {
     "data": {
      "text/plain": [
       "True"
      ]
     },
     "execution_count": 3,
     "metadata": {},
     "output_type": "execute_result"
    }
   ],
   "source": [
    "import pandas as pd\n",
    "import numpy as np\n",
    "import matplotlib.pyplot as plt\n",
    "import nltk\n",
    "from nltk.corpus import stopwords\n",
    "import re\n",
    "from tensorflow import keras\n",
    "from tensorflow.keras import layers\n",
    "from tensorflow.keras.preprocessing.text import Tokenizer\n",
    "from nltk.tokenize import word_tokenize\n",
    "from nltk.stem import WordNetLemmatizer\n",
    "from keras.models import Sequential\n",
    "from keras.layers import Dense\n",
    "from keras.layers import Flatten\n",
    "from keras.layers import Embedding\n",
    "from keras.layers import LSTM\n",
    "from keras.layers import Dropout\n",
    "\n",
    "nltk.download('stopwords') \n",
    "nltk.download('punkt')\n",
    "nltk.download('wordnet')"
   ]
  },
  {
   "cell_type": "code",
   "execution_count": 4,
   "id": "4b0d1d80-2d3d-4331-84d8-9a0b4c40f297",
   "metadata": {},
   "outputs": [],
   "source": [
    "yelp = pd.read_csv('yelp_labelled.txt', sep='\\t', header=None, names=['comment', 'rating'])\n",
    "\n",
    "# IMDB file has many lines start with \" which causes read_csv to skip the lines by default. Quoting=3 and quotechar=None appears to fix the behavior.\n",
    "imdb = pd.read_csv('imdb_labelled.txt', sep='\\t', header=None, names=['comment', 'rating'], quotechar=None, quoting=3, skip_blank_lines=False)\n",
    "\n",
    "amzn = pd.read_csv('amazon_cells_labelled.txt', sep='\\t', header=None, names=['comment', 'rating'])"
   ]
  },
  {
   "cell_type": "code",
   "execution_count": 5,
   "id": "ae1f1f84-0cca-4ae6-9c3b-4df459cc58c1",
   "metadata": {},
   "outputs": [
    {
     "name": "stdout",
     "output_type": "stream",
     "text": [
      "<class 'pandas.core.frame.DataFrame'>\n",
      "RangeIndex: 1000 entries, 0 to 999\n",
      "Data columns (total 2 columns):\n",
      " #   Column   Non-Null Count  Dtype \n",
      "---  ------   --------------  ----- \n",
      " 0   comment  1000 non-null   object\n",
      " 1   rating   1000 non-null   int64 \n",
      "dtypes: int64(1), object(1)\n",
      "memory usage: 15.8+ KB\n",
      "                                             comment  rating\n",
      "0                           Wow... Loved this place.       1\n",
      "1                                 Crust is not good.       0\n",
      "2          Not tasty and the texture was just nasty.       0\n",
      "3  Stopped by during the late May bank holiday of...       1\n",
      "4  The selection on the menu was great and so wer...       1\n",
      "\n",
      "<class 'pandas.core.frame.DataFrame'>\n",
      "RangeIndex: 1000 entries, 0 to 999\n",
      "Data columns (total 2 columns):\n",
      " #   Column   Non-Null Count  Dtype \n",
      "---  ------   --------------  ----- \n",
      " 0   comment  1000 non-null   object\n",
      " 1   rating   1000 non-null   int64 \n",
      "dtypes: int64(1), object(1)\n",
      "memory usage: 15.8+ KB\n",
      "                                             comment  rating\n",
      "0  A very, very, very slow-moving, aimless movie ...       0\n",
      "1  Not sure who was more lost - the flat characte...       0\n",
      "2  Attempting artiness with black & white and cle...       0\n",
      "3       Very little music or anything to speak of.         0\n",
      "4  The best scene in the movie was when Gerardo i...       1\n",
      "\n",
      "<class 'pandas.core.frame.DataFrame'>\n",
      "RangeIndex: 1000 entries, 0 to 999\n",
      "Data columns (total 2 columns):\n",
      " #   Column   Non-Null Count  Dtype \n",
      "---  ------   --------------  ----- \n",
      " 0   comment  1000 non-null   object\n",
      " 1   rating   1000 non-null   int64 \n",
      "dtypes: int64(1), object(1)\n",
      "memory usage: 15.8+ KB\n",
      "                                             comment  rating\n",
      "0  So there is no way for me to plug it in here i...       0\n",
      "1                        Good case, Excellent value.       1\n",
      "2                             Great for the jawbone.       1\n",
      "3  Tied to charger for conversations lasting more...       0\n",
      "4                                  The mic is great.       1\n"
     ]
    }
   ],
   "source": [
    "yelp.info()\n",
    "print(yelp.head())\n",
    "print()\n",
    "imdb.info()\n",
    "print(imdb.head())\n",
    "print()\n",
    "amzn.info()\n",
    "print(amzn.head())"
   ]
  },
  {
   "cell_type": "code",
   "execution_count": 6,
   "id": "cae2afa4-8716-4136-8aa8-929d56c81333",
   "metadata": {},
   "outputs": [
    {
     "name": "stdout",
     "output_type": "stream",
     "text": [
      "My fiancé and I came in the middle of the day and we were greeted and seated right away.\n",
      "I really enjoyed Crema Café before they expanded; I even told friends they had the BEST breakfast.\n",
      "The crêpe was delicate and thin and moist.\n",
      "The only thing I wasn't too crazy about was their guacamole as I don't like it puréed.\n",
      "\n",
      "It's practically perfect in all of them  a true masterpiece in a sea of faux \"masterpieces.  \n",
      "I'm glad this pretentious piece of s*** didn't do as planned by the Dodge stratus Big Shots... It's gonna help movie makers who aren't in the very restrained \"movie business\" of Québec.  \n",
      "The script is",
      "was there a script?  \n",
      "I'll even say it again  this is torture.  \n",
      "This show is made for Americans - it is too stupid and full with hatred and clichés to be admitted elsewhere.  \n",
      "A cheap and cheerless heist movie with poor characterisation, lots of underbite style stoic emoting (think Chow Yun Fat in A Better Tomorrow) and some cheesy clichés thrown into an abandoned factory ready for a few poorly executed flying judo rolls a la John Woo.  \n",
      "And I forgot: The Casting here i superb, with Trond Fausa Aurvåg being perfect in the role as the Bothersome Man, who doesn't understand where he is, what he is doing and why.  \n",
      "The script is bad, very bad  it contains both cheesiness and unethical joke that you normally see in rated R or NC-17 movie.  \n",
      "Let's start with all the problemsthe acting, especially from the lead professor, was very, very bad.  \n",
      "Technically, the film is well made with impressive camera-work, solid acting and effective music from Riz Ortolani  particularly good is a recurring unaccompanied female vocal that sounds like it's coming from a distant hill.  \n",
      "I am so tired of clichés that is just lazy writing, and here they come in thick and fast.  \n",
      "But, Kevin Spacey is an excellent, verbal tsunami as Buddy Ackerman  and totally believable because he is a great actor.  \n",
      "Definitely worth seeing",
      " it's the sort of thought provoking film that forces you to question your own threshold of loneliness.  \n",
      "\n",
      "\n"
     ]
    }
   ],
   "source": [
    "# Check for presence of non-ASCII characters\n",
    "# Code ref: https://stackoverflow.com/a/18403812\n",
    "def isascii(s):\n",
    "    \"\"\"Check if the characters in string s are in ASCII, U+0-U+7F.\"\"\"\n",
    "    return len(s) == len(s.encode())\n",
    "\n",
    "\n",
    "for c in (yelp[~yelp['comment'].apply(isascii)]['comment']):\n",
    "    print(c)\n",
    "\n",
    "print()\n",
    "\n",
    "for c in (imdb[~imdb['comment'].apply(isascii)]['comment']):\n",
    "    print(c)\n",
    "\n",
    "print()\n",
    "\n",
    "for c in (amzn[~amzn['comment'].apply(isascii)]['comment']):\n",
    "    print(c)\n",
    "\n",
    "print()"
   ]
  },
  {
   "cell_type": "code",
   "execution_count": 7,
   "id": "133b9a3b-250e-4178-a346-ffd4cea0190b",
   "metadata": {
    "tags": []
   },
   "outputs": [
    {
     "name": "stdout",
     "output_type": "stream",
     "text": [
      "['i', 'me', 'my', 'myself', 'we', 'our', 'ours', 'ourselves', 'you', \"you're\", \"you've\", \"you'll\", \"you'd\", 'your', 'yours', 'yourself', 'yourselves', 'he', 'him', 'his', 'himself', 'she', \"she's\", 'her', 'hers', 'herself', 'it', \"it's\", 'its', 'itself', 'they', 'them', 'their', 'theirs', 'themselves', 'what', 'which', 'who', 'whom', 'this', 'that', \"that'll\", 'these', 'those', 'am', 'is', 'are', 'was', 'were', 'be', 'been', 'being', 'have', 'has', 'had', 'having', 'do', 'does', 'did', 'doing', 'a', 'an', 'the', 'and', 'but', 'if', 'or', 'because', 'as', 'until', 'while', 'of', 'at', 'by', 'for', 'with', 'about', 'against', 'between', 'into', 'through', 'during', 'before', 'after', 'above', 'below', 'to', 'from', 'up', 'down', 'in', 'out', 'on', 'off', 'over', 'under', 'again', 'further', 'then', 'once', 'here', 'there', 'when', 'where', 'why', 'how', 'all', 'any', 'both', 'each', 'few', 'more', 'most', 'other', 'some', 'such', 'no', 'nor', 'not', 'only', 'own', 'same', 'so', 'than', 'too', 'very', 's', 't', 'can', 'will', 'just', 'don', \"don't\", 'should', \"should've\", 'now', 'd', 'll', 'm', 'o', 're', 've', 'y', 'ain', 'aren', \"aren't\", 'couldn', \"couldn't\", 'didn', \"didn't\", 'doesn', \"doesn't\", 'hadn', \"hadn't\", 'hasn', \"hasn't\", 'haven', \"haven't\", 'isn', \"isn't\", 'ma', 'mightn', \"mightn't\", 'mustn', \"mustn't\", 'needn', \"needn't\", 'shan', \"shan't\", 'shouldn', \"shouldn't\", 'wasn', \"wasn't\", 'weren', \"weren't\", 'won', \"won't\", 'wouldn', \"wouldn't\"]\n"
     ]
    }
   ],
   "source": [
    "\n",
    "sw=stopwords.words('english')\n",
    "print(sw)"
   ]
  },
  {
   "cell_type": "markdown",
   "id": "231ce555-13c4-4183-8699-aeaca704a417",
   "metadata": {},
   "source": [
    "Per Aleti (2020) [https://dev.to/sunilaleti/don-t-blindly-remove-stopwords-in-sentiment-analysis-3nok] removing negating words (not, no, etc.) can impact the accuracy of sentiment analysis. For instance, removing all the above stopwords from a review such as \"I didn't like the product\" would produce \"like product\" -- a reversal of the sentiment. I will remove no/nor/not from the stopwords and replace the contraction \"'t\" with \"not\""
   ]
  },
  {
   "cell_type": "code",
   "execution_count": 9,
   "id": "b2d9ef45-1363-4dc4-923f-834746a0a3c4",
   "metadata": {},
   "outputs": [],
   "source": [
    "sw.remove('no')\n",
    "sw.remove('not')\n",
    "sw.remove('nor')"
   ]
  },
  {
   "cell_type": "code",
   "execution_count": 10,
   "id": "d742efca-13e7-4eee-bd1d-901b41c4bac4",
   "metadata": {},
   "outputs": [
    {
     "name": "stdout",
     "output_type": "stream",
     "text": [
      "                                             comment  rating  \\\n",
      "0                           Wow... Loved this place.       1   \n",
      "1                                 Crust is not good.       0   \n",
      "2          Not tasty and the texture was just nasty.       0   \n",
      "3  Stopped by during the late May bank holiday of...       1   \n",
      "4  The selection on the menu was great and so wer...       1   \n",
      "\n",
      "                                   comment_processed  \n",
      "0                                    wow loved place  \n",
      "1                                     crust not good  \n",
      "2                            not tasty texture nasty  \n",
      "3  stopped late may bank holiday rick steve recom...  \n",
      "4                         selection menu great price  \n",
      "                                             comment  rating  \\\n",
      "0  A very, very, very slow-moving, aimless movie ...       0   \n",
      "1  Not sure who was more lost - the flat characte...       0   \n",
      "2  Attempting artiness with black & white and cle...       0   \n",
      "3       Very little music or anything to speak of.         0   \n",
      "4  The best scene in the movie was when Gerardo i...       1   \n",
      "\n",
      "                                   comment_processed  \n",
      "0  slow moving aimless movie distressed drifting ...  \n",
      "1  not sure lost flat character audience nearly h...  \n",
      "2  attempting artiness black white clever camera ...  \n",
      "3                        little music anything speak  \n",
      "4  best scene movie gerardo trying find song keep...  \n",
      "                                             comment  rating  \\\n",
      "0  So there is no way for me to plug it in here i...       0   \n",
      "1                        Good case, Excellent value.       1   \n",
      "2                             Great for the jawbone.       1   \n",
      "3  Tied to charger for conversations lasting more...       0   \n",
      "4                                  The mic is great.       1   \n",
      "\n",
      "                                   comment_processed  \n",
      "0                  no way plug u unless go converter  \n",
      "1                          good case excellent value  \n",
      "2                                      great jawbone  \n",
      "3  tied charger conversation lasting minute major...  \n",
      "4                                          mic great  \n"
     ]
    }
   ],
   "source": [
    "# Code ref: https://dev.to/sunilaleti/don-t-blindly-remove-stopwords-in-sentiment-analysis-3nok\n",
    "# Code ref: Elleh, D213 Task 2 Data Preprocessing in Python\n",
    "# Code ref: https://www.geeksforgeeks.org/python-lemmatization-with-nltk/\n",
    "\n",
    "lemma = WordNetLemmatizer()\n",
    "\n",
    "def lem(wordlist):\n",
    "    text = [lemma.lemmatize(word) for word in wordlist]\n",
    "    return text\n",
    "\n",
    "def remove_sw(wordlist):\n",
    "    text = [word for word in wordlist if not word in sw]\n",
    "    return text\n",
    "\n",
    "def preprocess(df):\n",
    "    # change \"'t\" to \" not\" and make everything lowercase\n",
    "    df['comment_processed'] = df['comment'].str.lower().replace({r\"\\'t\":\" not\"}, regex=True)                                \n",
    "    # remove non-alphabetical except for SPACE\n",
    "    df['comment_processed'].replace({r'[^a-zA-Z\\x20]+':' '}, regex=True, inplace=True)    \n",
    "    df['comment_processed'] = df['comment_processed'].apply(nltk.word_tokenize)\n",
    "    df['comment_processed'] = df['comment_processed'].apply(remove_sw)\n",
    "    df['comment_processed'] = df['comment_processed'].apply(lem)\n",
    "    df['comment_processed'] = df['comment_processed'].apply(\" \".join)\n",
    "    return df\n",
    "\n",
    "yelp = preprocess(yelp)\n",
    "print(yelp.head())\n",
    "imdb = preprocess(imdb)\n",
    "print(imdb.head())\n",
    "amzn = preprocess(amzn)\n",
    "print(amzn.head())"
   ]
  },
  {
   "cell_type": "code",
   "execution_count": 11,
   "id": "33c5df1e-ae37-4108-bc28-c446e6cde7da",
   "metadata": {},
   "outputs": [
    {
     "data": {
      "text/html": [
       "<div>\n",
       "<style scoped>\n",
       "    .dataframe tbody tr th:only-of-type {\n",
       "        vertical-align: middle;\n",
       "    }\n",
       "\n",
       "    .dataframe tbody tr th {\n",
       "        vertical-align: top;\n",
       "    }\n",
       "\n",
       "    .dataframe thead th {\n",
       "        text-align: right;\n",
       "    }\n",
       "</style>\n",
       "<table border=\"1\" class=\"dataframe\">\n",
       "  <thead>\n",
       "    <tr style=\"text-align: right;\">\n",
       "      <th></th>\n",
       "      <th>comment</th>\n",
       "      <th>rating</th>\n",
       "      <th>comment_processed</th>\n",
       "    </tr>\n",
       "  </thead>\n",
       "  <tbody>\n",
       "    <tr>\n",
       "      <th>150</th>\n",
       "      <td>My fiancé and I came in the middle of the day ...</td>\n",
       "      <td>1</td>\n",
       "      <td>fianc came middle day greeted seated right away</td>\n",
       "    </tr>\n",
       "  </tbody>\n",
       "</table>\n",
       "</div>"
      ],
      "text/plain": [
       "                                               comment  rating  \\\n",
       "150  My fiancé and I came in the middle of the day ...       1   \n",
       "\n",
       "                                   comment_processed  \n",
       "150  fianc came middle day greeted seated right away  "
      ]
     },
     "execution_count": 11,
     "metadata": {},
     "output_type": "execute_result"
    }
   ],
   "source": [
    "# Specifically check one of the lines that had a non-ASCII character (é)\n",
    "yelp.iloc[[150]]"
   ]
  },
  {
   "cell_type": "code",
   "execution_count": null,
   "id": "599b1421-df9c-4c94-a1c2-bba0a159c217",
   "metadata": {},
   "outputs": [],
   "source": []
  },
  {
   "cell_type": "code",
   "execution_count": null,
   "id": "94982c95-b3a5-4cbd-a40a-c727f18dcd53",
   "metadata": {},
   "outputs": [],
   "source": []
  },
  {
   "cell_type": "code",
   "execution_count": 12,
   "id": "902cec81-72c6-47b3-a9c1-fa650fdeaabc",
   "metadata": {},
   "outputs": [],
   "source": [
    "\"\"\" Will use yelp+imdb to train/test, amzn to validate \"\"\"\n",
    "input= pd.concat([yelp,imdb], ignore_index=True)\n",
    "input.tail()\n",
    "\n",
    "inX = input.comment_processed\n",
    "iny = input.rating\n",
    "valX = amzn.comment_processed\n",
    "valy = amzn.rating"
   ]
  },
  {
   "cell_type": "code",
   "execution_count": 13,
   "id": "b456e11e-3c58-45b7-9718-e148feb50bd7",
   "metadata": {},
   "outputs": [
    {
     "name": "stdout",
     "output_type": "stream",
     "text": [
      "1593    tiny toon kept vibe delivered one popular funn...\n",
      "533     love authentic mexican food want whole bunch i...\n",
      "1309    someone strives greatness poetry delivers mudd...\n",
      "798                                         mediocre food\n",
      "775                     frozen margarita way sugary taste\n",
      "                              ...                        \n",
      "1                                          crust not good\n",
      "672                          sushi lover avoid place mean\n",
      "704                    cashier friendly even brought food\n",
      "1325                                         never forget\n",
      "1331                              not seen not waste time\n",
      "Name: comment_processed, Length: 1500, dtype: object 1593    1\n",
      "533     1\n",
      "1309    0\n",
      "798     0\n",
      "775     0\n",
      "       ..\n",
      "1       0\n",
      "672     0\n",
      "704     1\n",
      "1325    1\n",
      "1331    0\n",
      "Name: rating, Length: 1500, dtype: int64\n",
      "824                                         awful service\n",
      "1001    not sure lost flat character audience nearly h...\n",
      "660     personally love hummus pita baklava falafel ba...\n",
      "1851                                   dialogue atrocious\n",
      "1841                                 still trying get bad\n",
      "                              ...                        \n",
      "1849                           like bad two hour tv movie\n",
      "50      ordered duck rare pink tender inside nice char...\n",
      "730     food barely lukewarm must sitting waiting serv...\n",
      "1720           describe painfully dreary time waster film\n",
      "1547    terribly disappointed film would receive many ...\n",
      "Name: comment_processed, Length: 500, dtype: object 824     0\n",
      "1001    0\n",
      "660     1\n",
      "1851    0\n",
      "1841    0\n",
      "       ..\n",
      "1849    0\n",
      "50      1\n",
      "730     0\n",
      "1720    0\n",
      "1547    0\n",
      "Name: rating, Length: 500, dtype: int64\n"
     ]
    }
   ],
   "source": [
    "from sklearn.model_selection import train_test_split\n",
    "\n",
    "X_train, X_test, y_train, y_test = train_test_split(inX, iny, test_size=0.25, random_state=4877)\n",
    "\n",
    "print(X_train, y_train)\n",
    "print(X_test, y_test)"
   ]
  },
  {
   "cell_type": "code",
   "execution_count": 14,
   "id": "b4bcaaf7-ee51-45be-8cd5-175c5169903d",
   "metadata": {},
   "outputs": [],
   "source": [
    "# Code ref: https://stackoverflow.com/q/58362316\n",
    "\n",
    "train_text = X_train.to_numpy()\n",
    "test_text = X_test.to_numpy()\n",
    "val_text = valX.to_numpy()\n",
    "\n",
    "t = Tokenizer(oov_token='<unk>')\n",
    "t.fit_on_texts(train_text)\n",
    "\n",
    "X_train_seq = t.texts_to_sequences(train_text)\n",
    "X_test_seq = t.texts_to_sequences(test_text)\n",
    "val_seq = t.texts_to_sequences(val_text)"
   ]
  },
  {
   "cell_type": "code",
   "execution_count": 15,
   "id": "7ce33d75-1b50-4b9f-9f38-19bffcf29aa3",
   "metadata": {},
   "outputs": [
    {
     "name": "stdout",
     "output_type": "stream",
     "text": [
      "OrderedDict([('tiny', 2), ('toon', 1), ('kept', 4), ('vibe', 4), ('delivered', 1), ('one', 80), ('popular', 1), ('funny', 15), ('underrated', 1), ('cartoon', 5), ('ever', 40), ('created', 4), ('love', 29), ('authentic', 5), ('mexican', 3), ('food', 96), ('want', 17), ('whole', 7), ('bunch', 4), ('interesting', 13), ('yet', 4), ('delicious', 19), ('meat', 8), ('choose', 2), ('need', 7), ('try', 12), ('place', 88), ('someone', 5), ('strives', 1), ('greatness', 1), ('poetry', 2), ('delivers', 3), (\n",
      "Training set length:  1500 \n",
      "\n",
      "{'<unk>': 1, 'not': 2, 'movie': 3, 'film': 4, 'good': 5, 'food': 6, 'place': 7, 'one': 8, 'great': 9, 'like': 10, 'bad': 11, 'time': 12, 'service': 13, 'really': 14, 'back': 15, 'go': 16, 'also': 17, 'even': 18, 'character': 19, 'no': 20, 'best': 21, 'ever': 22, 'well': 23, 'way': 24, 'would': 25, 'acting': 26, 'thing': 27, 'get': 28, 'never': 29, 'made': 30, 'make': 31, 'see': 32, 'love': 33, 'scene': 34, 'pretty': 35, 'minute': 36, 'could': 37, 'much': 38, 'amazing': 39, 'story': 40, 'every':  ... : 3178, 'grab': 3179, 'pub': 3180, 'favor': 3181, 'ala': 3182, 'cart': 3183, 'silently': 3184, 'row': 3185, 'entirely': 3186, 'unmoving': 3187, 'unremarkable': 3188, 'author': 3189, 'abstruse': 3190, 'milkshake': 3191, 'chocolate': 3192, 'milk': 3193, 'terribly': 3194, 'promise': 3195, 'disappoint': 3196, 'legit': 3197, 'somethat': 3198, 'network': 3199, 'aired': 3200, 'dribble': 3201, 'thumb': 3202, 'chipolte': 3203, 'ranch': 3204, 'dipping': 3205, 'sause': 3206, 'watered': 3207, 'crust': 3208}\n",
      "Number of words in training index:  3208\n",
      "\n",
      "\n",
      "List of words in training set ordered by appearance frequency:\n",
      " ['not', 'movie', 'film', 'good', 'food', 'place', 'one', 'great', 'like', 'bad', 'time', 'service', 'really', 'back', 'go', 'also', 'even', 'character', 'no', 'best', 'ever', 'well', 'way', 'would', 'acting', 'thing', 'get', 'never', 'made', 'make', 'see', 'love', 'scene', 'pretty', 'minute', 'could', 'much', 'amazing', 'story', 'every', 'think', 'actor', 'say', 'excellent', 'restaurant', 'little', 'better', 'u', 'nice', 'first', 'plot', 'everything', 'got', 'wonderful', 'look', 'friendly', 'show', 'people', 'disappointed', 'work', 'real', 'delicious', 'came', 'definitely', 'script', 'going', 'know', 'many', 'want', 'recommend', 'year', 'experience', 'worth', 'terrible', 'give', 'watching', 'seen', 'worst', 'still', 'chicken', 'cast', 'probably', 'enough', 'lot', 'star', 'right', 'funny', 'dish', 'salad', 'totally', 'slow', 'thought', 'come', 'two', 'music', 'waste', 'performance', 'staff', 'always', 'loved', 'vega', 'line', 'server', 'interesting', 'found', 'price', 'wait', 'job', 'awesome', 'day', 'take', 'absolutely', 'pizza', 'director', 'writing', 'find', 'feel', 'try', 'taste', 'anyone', 'bland', 'suck', 'fantastic', 'quality', 'hour', 'next', 'another', 'life', 'part', 'table', 'fresh', 'burger', 'kind', 'highly', 'perfect', 'overall', 'horrible', 'piece', 'flavor', 'ordered', 'beautiful', 'selection', 'since', 'watch', 'nothing', 'awful', 'meal', 'worse', 'white', 'least', 'steak', 'avoid', 'screen', 'eat', 'family', 'black', 'coming', 'enjoyed', 'feeling', 'buffet', 'kid', 'stupid', 'special', 'sandwich', 'quite', 'went', 'play', 'around', 'saw', 'felt', 'money', 'word', 'big', 'long', 'however', 'dialogue', 'fun', 'night', 'poor', 'directing', 'bit', 'old', 'spot', 'far', 'tasty', 'super', 'everyone', 'friend', 'full', 'side', 'cinematography', 'end', 'fry', 'menu', 'took', 'watched', 'though', 'almost', 'meat', 'art', 'expect', 'new', 'series', 'together', 'top', 'man', 'camera', 'must', 'mess', 'liked', 'especially', 'enjoy', 'lack', 'used', 'ending', 'short', 'either', 'half', 'fact', 'said', 'talk', 'done', 'world', 'heart', 'sure', 'predictable', 'breakfast', 'certainly', 'cool', 'incredible', 'last', 'seriously', 'sushi', 'whole', 'need', 'mediocre', 'cold', 'tender', 'cheap', 'classic', 'return', 'amount', 'picture', 'understand', 'sauce', 'today', 'impressed', 'chip', 'customer', 'eye', 'order', 'deal', 'believe', 'clean', 'recommended', 'mean', 'extremely', 'wasted', 'anything', 'let', 'seeing', 'tasted', 'non', 'review', 'lunch', 'comedy', 'boring', 'flick', 'style', 'hot', 'actually', 'beer', 'game', 'close', 'owner', 'check', 'use', 'sucked', 'effect', 'small', 'unfortunately', 'playing', 'twice', 'drama', 'away', 'ridiculous', 'waitress', 'may', 'considering', 'waiter', 'something', 'eating', 'making', 'leave', 'truly', 'reasonable', 'home', 'mostly', 'soon', 'dessert']\n"
     ]
    }
   ],
   "source": [
    "# summarize what was learned\n",
    "# Code ref: (Brownlee, 2019) https://machinelearningmastery.com/prepare-text-data-deep-learning-keras/\n",
    "from collections import OrderedDict\n",
    "print(str(t.word_counts)[:500])\n",
    "print(\"Training set length: \",str(t.document_count)[:500],\"\\n\")\n",
    "print(str(t.word_index)[:500],'...',str(t.word_index)[-500:])\n",
    "vocab_size = len(t.word_index)\n",
    "print(\"Number of words in training index: \",vocab_size)\n",
    "#print(str(t.word_docs)[:500],'...',str(t.word_docs)[-500:])\n",
    "print()\n",
    "print()\n",
    "# find most common words\n",
    "wc = t.word_counts\n",
    "print(\"List of words in training set ordered by appearance frequency:\\n\", list(OrderedDict(sorted(wc.items(), key=lambda c: c[1], reverse=True)))[:300])"
   ]
  },
  {
   "cell_type": "code",
   "execution_count": 16,
   "id": "658a0a86-1caa-4485-a7d2-e198ea8d903d",
   "metadata": {},
   "outputs": [
    {
     "name": "stdout",
     "output_type": "stream",
     "text": [
      "The Average Review length in the training set is  43.844\n",
      "The Max Review length is 239\n",
      "The Standard Deviation is 32\n"
     ]
    },
    {
     "data": {
      "text/plain": [
       "<Axes: ylabel='Count'>"
      ]
     },
     "execution_count": 16,
     "metadata": {},
     "output_type": "execute_result"
    },
    {
     "data": {
      "image/png": "[encoded data removed]",
      "text/plain": [
       "<Figure size 640x480 with 1 Axes>"
      ]
     },
     "metadata": {},
     "output_type": "display_data"
    }
   ],
   "source": [
    "length = [len(i) for i in X_train]\n",
    "print(\"The Average Review length in the training set is \", np.mean(length))\n",
    "print(\"The Max Review length is\", np.max(length))\n",
    "print(\"The Standard Deviation is\", round(np.std(length)))\n",
    "import seaborn as sns\n",
    "sns.histplot(length)"
   ]
  },
  {
   "cell_type": "code",
   "execution_count": 17,
   "id": "6bf15025-70e3-4a7f-9361-927d49ad242d",
   "metadata": {},
   "outputs": [
    {
     "data": {
      "text/plain": [
       "<Axes: xlabel='rating', ylabel='count'>"
      ]
     },
     "execution_count": 17,
     "metadata": {},
     "output_type": "execute_result"
    },
    {
     "data": {
      "image/png": "[encoded data removed]",
      "text/plain": [
       "<Figure size 640x480 with 1 Axes>"
      ]
     },
     "metadata": {},
     "output_type": "display_data"
    }
   ],
   "source": [
    "sns.countplot(x=y_train)"
   ]
  },
  {
   "cell_type": "code",
   "execution_count": 18,
   "id": "e7b4e584-4cb2-4f34-9c1e-0145c2ec9ee0",
   "metadata": {},
   "outputs": [
    {
     "name": "stdout",
     "output_type": "stream",
     "text": [
      "107\n"
     ]
    }
   ],
   "source": [
    "vocab_size = len(t.word_index)\n",
    "# Set max length to be 2 SDs above mean length\n",
    "maxlen = round(np.mean(length) + 2 * (np.std(length)))\n",
    "print(maxlen)"
   ]
  },
  {
   "cell_type": "code",
   "execution_count": 19,
   "id": "ba680e9c-86b1-4a5b-8b7f-bb570fa7d7e8",
   "metadata": {},
   "outputs": [
    {
     "name": "stdout",
     "output_type": "stream",
     "text": [
      "(1500, 107)\n",
      "(1000, 107)\n"
     ]
    },
    {
     "data": {
      "text/plain": [
       "array([[  20,   24, 1305, ...,    0,    0,    0],\n",
       "       [   5,  465,   45, ...,    0,    0,    0],\n",
       "       [   9,    1,    0, ...,    0,    0,    0],\n",
       "       ...,\n",
       "       [   1,    2,    1, ...,    0,    0,    0],\n",
       "       [  27, 3196,    1, ...,    0,    0,    0],\n",
       "       [   2,    1,  537, ...,    0,    0,    0]])"
      ]
     },
     "execution_count": 19,
     "metadata": {},
     "output_type": "execute_result"
    }
   ],
   "source": [
    "# Code ref: https://stackabuse.com/python-for-nlp-movie-sentiment-analysis-using-deep-learning-in-keras/\n",
    "from keras.preprocessing.sequence import pad_sequences\n",
    "X_train_pad = pad_sequences(X_train_seq, padding='post', maxlen=maxlen)\n",
    "X_test_pad = pad_sequences(X_test_seq, padding='post', maxlen=maxlen)\n",
    "val_pad = pad_sequences(val_seq, padding='post', maxlen=maxlen)\n",
    "\n",
    "print(X_train_pad.shape)\n",
    "print(val_pad.shape)\n",
    "\n",
    "val_pad"
   ]
  },
  {
   "cell_type": "code",
   "execution_count": 20,
   "id": "eea9fffc-ca40-4b12-836b-01eef3a37c2b",
   "metadata": {
    "tags": []
   },
   "outputs": [],
   "source": [
    "train_labels = y_train.to_numpy().flatten()\n",
    "test_labels = y_test.to_numpy().flatten()\n",
    "val_labels = valy.to_numpy().flatten()\n",
    "\n",
    "# CONVERT TO TF DATASETS\n",
    "train_ds = tf.data.Dataset.from_tensor_slices((X_train_pad,train_labels))\n",
    "test_ds = tf.data.Dataset.from_tensor_slices((X_test_pad,test_labels))\n",
    "valid_ds = tf.data.Dataset.from_tensor_slices((val_pad,val_labels))\n"
   ]
  },
  {
   "cell_type": "code",
   "execution_count": 21,
   "id": "39ae84ba-4e16-44a1-b3e1-37292a5e1645",
   "metadata": {
    "tags": []
   },
   "outputs": [
    {
     "name": "stdout",
     "output_type": "stream",
     "text": [
      "8\n"
     ]
    }
   ],
   "source": [
    "# Word embedding length - code ref: Ellis, D213 Task 2 Cohort PPT\n",
    "max_seq_embedding = int(round(np.sqrt(np.sqrt(vocab_size)),0))\n",
    "print(max_seq_embedding)"
   ]
  },
  {
   "cell_type": "code",
   "execution_count": 52,
   "id": "2cfaf0b7-1cfc-49fa-bf1b-48812a36e054",
   "metadata": {
    "tags": []
   },
   "outputs": [
    {
     "name": "stderr",
     "output_type": "stream",
     "text": [
      "C:\\Users\\dough\\anaconda3\\Lib\\site-packages\\keras\\src\\layers\\core\\embedding.py:90: UserWarning: Argument `input_length` is deprecated. Just remove it.\n",
      "  warnings.warn(\n"
     ]
    },
    {
     "data": {
      "text/html": [
       "<pre style=\"white-space:pre;overflow-x:auto;line-height:normal;font-family:Menlo,'DejaVu Sans Mono',consolas,'Courier New',monospace\"><span style=\"font-weight: bold\">Model: \"sequential_3\"</span>\n",
       "</pre>\n"
      ],
      "text/plain": [
       "\u001b[1mModel: \"sequential_3\"\u001b[0m\n"
      ]
     },
     "metadata": {},
     "output_type": "display_data"
    },
    {
     "data": {
      "text/html": [
       "<pre style=\"white-space:pre;overflow-x:auto;line-height:normal;font-family:Menlo,'DejaVu Sans Mono',consolas,'Courier New',monospace\">┏━━━━━━━━━━━━━━━━━━━━━━━━━━━━━━━━━┳━━━━━━━━━━━━━━━━━━━━━━━━┳━━━━━━━━━━━━━━━┓\n",
       "┃<span style=\"font-weight: bold\"> Layer (type)                    </span>┃<span style=\"font-weight: bold\"> Output Shape           </span>┃<span style=\"font-weight: bold\">       Param # </span>┃\n",
       "┡━━━━━━━━━━━━━━━━━━━━━━━━━━━━━━━━━╇━━━━━━━━━━━━━━━━━━━━━━━━╇━━━━━━━━━━━━━━━┩\n",
       "│ embedding_3 (<span style=\"color: #0087ff; text-decoration-color: #0087ff\">Embedding</span>)         │ ?                      │   <span style=\"color: #00af00; text-decoration-color: #00af00\">0</span> (unbuilt) │\n",
       "└─────────────────────────────────┴────────────────────────┴───────────────┘\n",
       "</pre>\n"
      ],
      "text/plain": [
       "┏━━━━━━━━━━━━━━━━━━━━━━━━━━━━━━━━━┳━━━━━━━━━━━━━━━━━━━━━━━━┳━━━━━━━━━━━━━━━┓\n",
       "┃\u001b[1m \u001b[0m\u001b[1mLayer (type)                   \u001b[0m\u001b[1m \u001b[0m┃\u001b[1m \u001b[0m\u001b[1mOutput Shape          \u001b[0m\u001b[1m \u001b[0m┃\u001b[1m \u001b[0m\u001b[1m      Param #\u001b[0m\u001b[1m \u001b[0m┃\n",
       "┡━━━━━━━━━━━━━━━━━━━━━━━━━━━━━━━━━╇━━━━━━━━━━━━━━━━━━━━━━━━╇━━━━━━━━━━━━━━━┩\n",
       "│ embedding_3 (\u001b[38;5;33mEmbedding\u001b[0m)         │ ?                      │   \u001b[38;5;34m0\u001b[0m (unbuilt) │\n",
       "└─────────────────────────────────┴────────────────────────┴───────────────┘\n"
      ]
     },
     "metadata": {},
     "output_type": "display_data"
    },
    {
     "data": {
      "text/html": [
       "<pre style=\"white-space:pre;overflow-x:auto;line-height:normal;font-family:Menlo,'DejaVu Sans Mono',consolas,'Courier New',monospace\"><span style=\"font-weight: bold\"> Total params: </span><span style=\"color: #00af00; text-decoration-color: #00af00\">0</span> (0.00 B)\n",
       "</pre>\n"
      ],
      "text/plain": [
       "\u001b[1m Total params: \u001b[0m\u001b[38;5;34m0\u001b[0m (0.00 B)\n"
      ]
     },
     "metadata": {},
     "output_type": "display_data"
    },
    {
     "data": {
      "text/html": [
       "<pre style=\"white-space:pre;overflow-x:auto;line-height:normal;font-family:Menlo,'DejaVu Sans Mono',consolas,'Courier New',monospace\"><span style=\"font-weight: bold\"> Trainable params: </span><span style=\"color: #00af00; text-decoration-color: #00af00\">0</span> (0.00 B)\n",
       "</pre>\n"
      ],
      "text/plain": [
       "\u001b[1m Trainable params: \u001b[0m\u001b[38;5;34m0\u001b[0m (0.00 B)\n"
      ]
     },
     "metadata": {},
     "output_type": "display_data"
    },
    {
     "data": {
      "text/html": [
       "<pre style=\"white-space:pre;overflow-x:auto;line-height:normal;font-family:Menlo,'DejaVu Sans Mono',consolas,'Courier New',monospace\"><span style=\"font-weight: bold\"> Non-trainable params: </span><span style=\"color: #00af00; text-decoration-color: #00af00\">0</span> (0.00 B)\n",
       "</pre>\n"
      ],
      "text/plain": [
       "\u001b[1m Non-trainable params: \u001b[0m\u001b[38;5;34m0\u001b[0m (0.00 B)\n"
      ]
     },
     "metadata": {},
     "output_type": "display_data"
    }
   ],
   "source": [
    "# Build the model\n",
    "# Code ref: https://machinelearningmastery.com/use-word-embedding-layers-deep-learning-keras/\n",
    "# Code ref: https://www.tensorflow.org/text/tutorials/text_classification_rnn\n",
    "\n",
    "model = tf.keras.Sequential([\n",
    "    Embedding(vocab_size, max_seq_embedding, input_length=maxlen),\n",
    "    #Flatten(),\n",
    "    #LSTM(64, return_sequences=True),\n",
    "    #LSTM(32),\n",
    "    #Dense(32, activation='relu'),\n",
    "    #Dropout(0.25),\n",
    "    #Dense(1, activation='sigmoid')\n",
    "])\n",
    "\n",
    "model.compile(optimizer='adam', loss='binary_crossentropy', metrics=['accuracy'])\n",
    "#model.fit(X_train_pad, train_labels, epochs =10 , batch_size=64)\n",
    "\n",
    "model.summary()"
   ]
  },
  {
   "cell_type": "code",
   "execution_count": null,
   "id": "a892fed9-5070-47ed-8251-518fd8673c5b",
   "metadata": {},
   "outputs": [],
   "source": []
  }
 ],
 "metadata": {
  "kernelspec": {
   "display_name": "Python 3 (ipykernel)",
   "language": "python",
   "name": "python3"
  },
  "language_info": {
   "codemirror_mode": {
    "name": "ipython",
    "version": 3
   },
   "file_extension": ".py",
   "mimetype": "text/x-python",
   "name": "python",
   "nbconvert_exporter": "python",
   "pygments_lexer": "ipython3",
   "version": "3.11.9"
  }
 },
 "nbformat": 4,
 "nbformat_minor": 5
}
