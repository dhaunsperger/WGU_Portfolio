{
 "cells": [
  {
   "cell_type": "markdown",
   "id": "13bb2206-c99f-4732-8443-ea8c8afba0e9",
   "metadata": {
    "tags": []
   },
   "source": [
    "# D209 PA 2 code - Doug Haunsperger"
   ]
  },
  {
   "cell_type": "markdown",
   "id": "aa2fbf12-b7b2-4a35-b6b2-93588ae04f78",
   "metadata": {},
   "source": [
    "## Data Preparation\n",
    "\n",
    "### Do initial package import and data read"
   ]
  },
  {
   "cell_type": "code",
   "execution_count": 1,
   "id": "925c89d7-9e3d-43ed-81c0-66edebb17a83",
   "metadata": {
    "tags": []
   },
   "outputs": [
    {
     "data": {
      "text/html": [
       "<div>\n",
       "<style scoped>\n",
       "    .dataframe tbody tr th:only-of-type {\n",
       "        vertical-align: middle;\n",
       "    }\n",
       "\n",
       "    .dataframe tbody tr th {\n",
       "        vertical-align: top;\n",
       "    }\n",
       "\n",
       "    .dataframe thead th {\n",
       "        text-align: right;\n",
       "    }\n",
       "</style>\n",
       "<table border=\"1\" class=\"dataframe\">\n",
       "  <thead>\n",
       "    <tr style=\"text-align: right;\">\n",
       "      <th></th>\n",
       "      <th>CaseOrder</th>\n",
       "      <th>Customer_id</th>\n",
       "      <th>Interaction</th>\n",
       "      <th>UID</th>\n",
       "      <th>City</th>\n",
       "      <th>State</th>\n",
       "      <th>County</th>\n",
       "      <th>Zip</th>\n",
       "      <th>Lat</th>\n",
       "      <th>Lng</th>\n",
       "      <th>...</th>\n",
       "      <th>TotalCharge</th>\n",
       "      <th>Additional_charges</th>\n",
       "      <th>Item1</th>\n",
       "      <th>Item2</th>\n",
       "      <th>Item3</th>\n",
       "      <th>Item4</th>\n",
       "      <th>Item5</th>\n",
       "      <th>Item6</th>\n",
       "      <th>Item7</th>\n",
       "      <th>Item8</th>\n",
       "    </tr>\n",
       "  </thead>\n",
       "  <tbody>\n",
       "    <tr>\n",
       "      <th>0</th>\n",
       "      <td>1</td>\n",
       "      <td>C412403</td>\n",
       "      <td>8cd49b13-f45a-4b47-a2bd-173ffa932c2f</td>\n",
       "      <td>3a83ddb66e2ae73798bdf1d705dc0932</td>\n",
       "      <td>Eva</td>\n",
       "      <td>AL</td>\n",
       "      <td>Morgan</td>\n",
       "      <td>35621</td>\n",
       "      <td>34.34960</td>\n",
       "      <td>-86.72508</td>\n",
       "      <td>...</td>\n",
       "      <td>3726.702860</td>\n",
       "      <td>17939.403420</td>\n",
       "      <td>3</td>\n",
       "      <td>3</td>\n",
       "      <td>2</td>\n",
       "      <td>2</td>\n",
       "      <td>4</td>\n",
       "      <td>3</td>\n",
       "      <td>3</td>\n",
       "      <td>4</td>\n",
       "    </tr>\n",
       "    <tr>\n",
       "      <th>1</th>\n",
       "      <td>2</td>\n",
       "      <td>Z919181</td>\n",
       "      <td>d2450b70-0337-4406-bdbb-bc1037f1734c</td>\n",
       "      <td>176354c5eef714957d486009feabf195</td>\n",
       "      <td>Marianna</td>\n",
       "      <td>FL</td>\n",
       "      <td>Jackson</td>\n",
       "      <td>32446</td>\n",
       "      <td>30.84513</td>\n",
       "      <td>-85.22907</td>\n",
       "      <td>...</td>\n",
       "      <td>4193.190458</td>\n",
       "      <td>17612.998120</td>\n",
       "      <td>3</td>\n",
       "      <td>4</td>\n",
       "      <td>3</td>\n",
       "      <td>4</td>\n",
       "      <td>4</td>\n",
       "      <td>4</td>\n",
       "      <td>3</td>\n",
       "      <td>3</td>\n",
       "    </tr>\n",
       "    <tr>\n",
       "      <th>2</th>\n",
       "      <td>3</td>\n",
       "      <td>F995323</td>\n",
       "      <td>a2057123-abf5-4a2c-abad-8ffe33512562</td>\n",
       "      <td>e19a0fa00aeda885b8a436757e889bc9</td>\n",
       "      <td>Sioux Falls</td>\n",
       "      <td>SD</td>\n",
       "      <td>Minnehaha</td>\n",
       "      <td>57110</td>\n",
       "      <td>43.54321</td>\n",
       "      <td>-96.63772</td>\n",
       "      <td>...</td>\n",
       "      <td>2434.234222</td>\n",
       "      <td>17505.192460</td>\n",
       "      <td>2</td>\n",
       "      <td>4</td>\n",
       "      <td>4</td>\n",
       "      <td>4</td>\n",
       "      <td>3</td>\n",
       "      <td>4</td>\n",
       "      <td>3</td>\n",
       "      <td>3</td>\n",
       "    </tr>\n",
       "    <tr>\n",
       "      <th>3</th>\n",
       "      <td>4</td>\n",
       "      <td>A879973</td>\n",
       "      <td>1dec528d-eb34-4079-adce-0d7a40e82205</td>\n",
       "      <td>cd17d7b6d152cb6f23957346d11c3f07</td>\n",
       "      <td>New Richland</td>\n",
       "      <td>MN</td>\n",
       "      <td>Waseca</td>\n",
       "      <td>56072</td>\n",
       "      <td>43.89744</td>\n",
       "      <td>-93.51479</td>\n",
       "      <td>...</td>\n",
       "      <td>2127.830423</td>\n",
       "      <td>12993.437350</td>\n",
       "      <td>3</td>\n",
       "      <td>5</td>\n",
       "      <td>5</td>\n",
       "      <td>3</td>\n",
       "      <td>4</td>\n",
       "      <td>5</td>\n",
       "      <td>5</td>\n",
       "      <td>5</td>\n",
       "    </tr>\n",
       "    <tr>\n",
       "      <th>4</th>\n",
       "      <td>5</td>\n",
       "      <td>C544523</td>\n",
       "      <td>5885f56b-d6da-43a3-8760-83583af94266</td>\n",
       "      <td>d2f0425877b10ed6bb381f3e2579424a</td>\n",
       "      <td>West Point</td>\n",
       "      <td>VA</td>\n",
       "      <td>King William</td>\n",
       "      <td>23181</td>\n",
       "      <td>37.59894</td>\n",
       "      <td>-76.88958</td>\n",
       "      <td>...</td>\n",
       "      <td>2113.073274</td>\n",
       "      <td>3716.525786</td>\n",
       "      <td>2</td>\n",
       "      <td>1</td>\n",
       "      <td>3</td>\n",
       "      <td>3</td>\n",
       "      <td>5</td>\n",
       "      <td>3</td>\n",
       "      <td>4</td>\n",
       "      <td>3</td>\n",
       "    </tr>\n",
       "  </tbody>\n",
       "</table>\n",
       "<p>5 rows × 50 columns</p>\n",
       "</div>"
      ],
      "text/plain": [
       "   CaseOrder Customer_id                           Interaction  \\\n",
       "0          1     C412403  8cd49b13-f45a-4b47-a2bd-173ffa932c2f   \n",
       "1          2     Z919181  d2450b70-0337-4406-bdbb-bc1037f1734c   \n",
       "2          3     F995323  a2057123-abf5-4a2c-abad-8ffe33512562   \n",
       "3          4     A879973  1dec528d-eb34-4079-adce-0d7a40e82205   \n",
       "4          5     C544523  5885f56b-d6da-43a3-8760-83583af94266   \n",
       "\n",
       "                                UID          City State        County    Zip  \\\n",
       "0  3a83ddb66e2ae73798bdf1d705dc0932           Eva    AL        Morgan  35621   \n",
       "1  176354c5eef714957d486009feabf195      Marianna    FL       Jackson  32446   \n",
       "2  e19a0fa00aeda885b8a436757e889bc9   Sioux Falls    SD     Minnehaha  57110   \n",
       "3  cd17d7b6d152cb6f23957346d11c3f07  New Richland    MN        Waseca  56072   \n",
       "4  d2f0425877b10ed6bb381f3e2579424a    West Point    VA  King William  23181   \n",
       "\n",
       "        Lat       Lng  ...  TotalCharge Additional_charges Item1 Item2  Item3  \\\n",
       "0  34.34960 -86.72508  ...  3726.702860       17939.403420     3     3      2   \n",
       "1  30.84513 -85.22907  ...  4193.190458       17612.998120     3     4      3   \n",
       "2  43.54321 -96.63772  ...  2434.234222       17505.192460     2     4      4   \n",
       "3  43.89744 -93.51479  ...  2127.830423       12993.437350     3     5      5   \n",
       "4  37.59894 -76.88958  ...  2113.073274        3716.525786     2     1      3   \n",
       "\n",
       "   Item4  Item5 Item6 Item7 Item8  \n",
       "0      2      4     3     3     4  \n",
       "1      4      4     4     3     3  \n",
       "2      4      3     4     3     3  \n",
       "3      3      4     5     5     5  \n",
       "4      3      5     3     4     3  \n",
       "\n",
       "[5 rows x 50 columns]"
      ]
     },
     "execution_count": 1,
     "metadata": {},
     "output_type": "execute_result"
    }
   ],
   "source": [
    "import pandas as pd\n",
    "import numpy as np\n",
    "import matplotlib.pyplot as plt\n",
    "import seaborn as sns\n",
    "from sklearn.linear_model import LinearRegression, Lasso, LassoCV\n",
    "from sklearn.model_selection import train_test_split\n",
    "from sklearn.metrics import mean_squared_error\n",
    "from sklearn.preprocessing import StandardScaler\n",
    "from sklearn.compose import ColumnTransformer\n",
    "\n",
    "SEED=1219\n",
    "\n",
    "df = pd.read_csv('medical_clean.csv')\n",
    "\n",
    "#view first 5 rows\n",
    "df.head(5)"
   ]
  },
  {
   "cell_type": "markdown",
   "id": "54f172f9-d0b9-4600-b097-c373323846af",
   "metadata": {
    "tags": []
   },
   "source": [
    "## Section C2 - Data Set Variables\n",
    "### Selecting variables to answer research question\n",
    "\n",
    "For possible explanatory variables, I am casting a wide net, looking at demographic info as well as reported medical conditions. LASSO regression should minimize or eliminate the impact of variables that do not affect the target."
   ]
  },
  {
   "cell_type": "code",
   "execution_count": 2,
   "id": "910964c0-7e74-4387-a890-5a9c35592c2b",
   "metadata": {},
   "outputs": [],
   "source": [
    "# Target variable\n",
    "target='Additional_charges'\n",
    "# Quantitative explanatory\n",
    "quant_cols=['Population', 'Children', 'Age', 'Income', 'VitD_levels']\n",
    "#, 'Doc_visits', 'Initial_days', 'Full_meals_eaten', 'vitD_supp'] - these were not chosen because they would not be available at admission time\n",
    "\n",
    "# Categorical explanatory\n",
    "cat_cols = ['Gender', 'Marital', 'Soft_drink', 'HighBlood', 'Complication_risk', 'Overweight', 'Arthritis', 'Diabetes', 'Hyperlipidemia', \n",
    "            'Stroke', 'BackPain', 'Anxiety', 'Allergic_rhinitis', 'Reflux_esophagitis', 'Asthma', 'Initial_admin']\n",
    "\n",
    "ind_var_cols = quant_cols + cat_cols"
   ]
  },
  {
   "cell_type": "markdown",
   "id": "be851531-018b-4fe2-96ce-951dc95d3fd3",
   "metadata": {},
   "source": [
    "## Section C1 - Data Preprocessing\n",
    "### Check for outliers"
   ]
  },
  {
   "cell_type": "code",
   "execution_count": 3,
   "id": "8107c7f9-b8c3-4f89-99ea-f30314c20b0d",
   "metadata": {
    "tags": []
   },
   "outputs": [
    {
     "data": {
      "image/png": "[encoded data removed]",
      "text/plain": [
       "<Figure size 1000x400 with 2 Axes>"
      ]
     },
     "metadata": {},
     "output_type": "display_data"
    },
    {
     "data": {
      "image/png": "[encoded data removed]",
      "text/plain": [
       "<Figure size 1000x400 with 2 Axes>"
      ]
     },
     "metadata": {},
     "output_type": "display_data"
    },
    {
     "data": {
      "image/png": "[encoded data removed]",
      "text/plain": [
       "<Figure size 1000x400 with 2 Axes>"
      ]
     },
     "metadata": {},
     "output_type": "display_data"
    },
    {
     "data": {
      "image/png": "[encoded data removed]",
      "text/plain": [
       "<Figure size 1000x400 with 2 Axes>"
      ]
     },
     "metadata": {},
     "output_type": "display_data"
    },
    {
     "data": {
      "image/png": "[encoded data removed]",
      "text/plain": [
       "<Figure size 1000x400 with 2 Axes>"
      ]
     },
     "metadata": {},
     "output_type": "display_data"
    }
   ],
   "source": [
    "# Choose only the quantitative columns\n",
    "\n",
    "# Ref: https://stackoverflow.com/questions/16392921/make-more-than-one-chart-in-same-ipython-notebook-cell (Kassies, 2013)\n",
    "for col in quant_cols:\n",
    "    fig, axs = plt.subplots(1,2, figsize=(10,4))\n",
    "    sns.histplot(df[col], ax=axs[0])\n",
    "    plt.title(col)\n",
    "    sns.boxplot(df[col], orient='h', ax=axs[1])\n",
    "    plt.title(col)\n",
    "    plt.show()"
   ]
  },
  {
   "cell_type": "markdown",
   "id": "ed99121b-1974-4670-81db-c9c40adee3be",
   "metadata": {},
   "source": [
    "The right-skewed distributions `Population` and `Income` might benefit from a log-scale analysis"
   ]
  },
  {
   "cell_type": "code",
   "execution_count": 4,
   "id": "7808ff9a-1363-4a5b-a77c-6a82d3f18fe9",
   "metadata": {
    "tags": []
   },
   "outputs": [
    {
     "name": "stderr",
     "output_type": "stream",
     "text": [
      "C:\\Users\\dough\\anaconda3\\Lib\\site-packages\\pandas\\core\\arraylike.py:402: RuntimeWarning: divide by zero encountered in log\n",
      "  result = getattr(ufunc, method)(*inputs, **kwargs)\n"
     ]
    },
    {
     "data": {
      "image/png": "[encoded data removed]",
      "text/plain": [
       "<Figure size 640x480 with 1 Axes>"
      ]
     },
     "metadata": {},
     "output_type": "display_data"
    },
    {
     "name": "stderr",
     "output_type": "stream",
     "text": [
      "C:\\Users\\dough\\anaconda3\\Lib\\site-packages\\pandas\\core\\arraylike.py:402: RuntimeWarning: divide by zero encountered in log\n",
      "  result = getattr(ufunc, method)(*inputs, **kwargs)\n"
     ]
    },
    {
     "data": {
      "text/plain": [
       "<Axes: >"
      ]
     },
     "execution_count": 4,
     "metadata": {},
     "output_type": "execute_result"
    },
    {
     "data": {
      "image/png": "[encoded data removed]",
      "text/plain": [
       "<Figure size 640x480 with 1 Axes>"
      ]
     },
     "metadata": {},
     "output_type": "display_data"
    }
   ],
   "source": [
    "sns.histplot(np.log(df.Population))\n",
    "plt.show()\n",
    "sns.boxplot(np.log(df.Population), orient='h')"
   ]
  },
  {
   "cell_type": "code",
   "execution_count": 5,
   "id": "1bebd4ed-c367-4178-9faa-92116f0d3594",
   "metadata": {
    "tags": []
   },
   "outputs": [
    {
     "data": {
      "image/png": "[encoded data removed]",
      "text/plain": [
       "<Figure size 640x480 with 1 Axes>"
      ]
     },
     "metadata": {},
     "output_type": "display_data"
    },
    {
     "data": {
      "text/plain": [
       "<Axes: >"
      ]
     },
     "execution_count": 5,
     "metadata": {},
     "output_type": "execute_result"
    },
    {
     "data": {
      "image/png": "[encoded data removed]",
      "text/plain": [
       "<Figure size 640x480 with 1 Axes>"
      ]
     },
     "metadata": {},
     "output_type": "display_data"
    }
   ],
   "source": [
    "sns.histplot(np.log(df.Income))\n",
    "plt.show()\n",
    "sns.boxplot(np.log(df.Income), orient='h')"
   ]
  },
  {
   "cell_type": "markdown",
   "id": "c26dbb9c-c5ab-447c-bc90-17dcbf267602",
   "metadata": {
    "tags": []
   },
   "source": [
    "## Section C3 - Data Preparation / Transformation\n",
    "### Treating Outliers\n",
    "I will use the same treatment methodologies I did with the data in D208. In this case, I choose to retain all outliers except 0 values for `Population`, and `Income` below $3000/year"
   ]
  },
  {
   "cell_type": "markdown",
   "id": "914fbd50-ccbf-4c40-8333-93658be6ac4e",
   "metadata": {},
   "source": [
    "#### Population\n",
    "Population is reasonable to have a long-tail, right-skew distribution. However, zero values are not reasonable. They would also interfere with doing a log transformation if necessary."
   ]
  },
  {
   "cell_type": "code",
   "execution_count": 6,
   "id": "f3e8d660-d375-4106-848b-37e66d1096e0",
   "metadata": {
    "tags": []
   },
   "outputs": [
    {
     "data": {
      "text/plain": [
       "(109, 50)"
      ]
     },
     "execution_count": 6,
     "metadata": {},
     "output_type": "execute_result"
    }
   ],
   "source": [
    "df[(df.Population == 0)].shape"
   ]
  },
  {
   "cell_type": "markdown",
   "id": "b484ed51-d0a5-407f-83f1-0d561f952e98",
   "metadata": {},
   "source": [
    "Removing `Population == 0` outliers from the data set and move them to a separate data frame"
   ]
  },
  {
   "cell_type": "code",
   "execution_count": 7,
   "id": "f3b83599-2e2f-4c02-bbf8-6fc52631e658",
   "metadata": {
    "tags": []
   },
   "outputs": [
    {
     "data": {
      "text/plain": [
       "(9891, 50)"
      ]
     },
     "execution_count": 7,
     "metadata": {},
     "output_type": "execute_result"
    }
   ],
   "source": [
    "pop_outliers = df[(df.Population == 0)]\n",
    "df.drop(df[(df.Population == 0)].index, inplace=True)\n",
    "df.shape"
   ]
  },
  {
   "cell_type": "markdown",
   "id": "24341e56-c735-4316-bf2a-f268d86eb05e",
   "metadata": {},
   "source": [
    "#### Income\n",
    "Income is reasonable to have a long-tail, right-skew distribution - values above \\$200k per year are possible. However, the log transform shows a long-tail, left-skew distribution. `Income` below \\$3000/year - or below approximately 8 on the log chart - will be removed under the assumption that these may have incorrectly been entered as monthly incomes rather than annual."
   ]
  },
  {
   "cell_type": "code",
   "execution_count": 8,
   "id": "9fc72e86-55a6-492d-b8b3-e7ef7085dd0f",
   "metadata": {
    "tags": []
   },
   "outputs": [
    {
     "data": {
      "text/plain": [
       "(105, 50)"
      ]
     },
     "execution_count": 8,
     "metadata": {},
     "output_type": "execute_result"
    }
   ],
   "source": [
    "df[(df.Income < 3000)].shape"
   ]
  },
  {
   "cell_type": "markdown",
   "id": "874996be-cd40-4fb5-a42b-a807d7ba4892",
   "metadata": {},
   "source": [
    "Removing low `Income` outliers from the data set and move them to a separate data frame"
   ]
  },
  {
   "cell_type": "code",
   "execution_count": 9,
   "id": "201208f7-7a4b-4092-9fb0-964a4abcbf90",
   "metadata": {
    "tags": []
   },
   "outputs": [
    {
     "data": {
      "text/plain": [
       "(9786, 50)"
      ]
     },
     "execution_count": 9,
     "metadata": {},
     "output_type": "execute_result"
    }
   ],
   "source": [
    "inc_outliers = df[(df.Income < 3000)]\n",
    "df.drop(df[(df.Income < 3000)].index, inplace=True)\n",
    "df.shape"
   ]
  },
  {
   "cell_type": "markdown",
   "id": "b9e0708c-56d5-47c7-93d2-4b5f649e3446",
   "metadata": {},
   "source": [
    "### Re-expressing Categorical Variables"
   ]
  },
  {
   "cell_type": "code",
   "execution_count": 10,
   "id": "49b8926f-57e1-4d2d-a3ca-b7e5766421a6",
   "metadata": {},
   "outputs": [
    {
     "name": "stdout",
     "output_type": "stream",
     "text": [
      "['Male' 'Female' 'Nonbinary']\n",
      "['Divorced' 'Married' 'Widowed' 'Never Married' 'Separated']\n",
      "['No' 'Yes']\n",
      "['Yes' 'No']\n",
      "['Medium' 'High' 'Low']\n",
      "['No' 'Yes']\n",
      "['Yes' 'No']\n",
      "['Yes' 'No']\n",
      "['No' 'Yes']\n",
      "['No' 'Yes']\n",
      "['Yes' 'No']\n",
      "['Yes' 'No']\n",
      "['Yes' 'No']\n",
      "['No' 'Yes']\n",
      "['Yes' 'No']\n",
      "['Emergency Admission' 'Elective Admission' 'Observation Admission']\n"
     ]
    }
   ],
   "source": [
    "# Split the data into features (X) and target (y)\n",
    "\n",
    "# target variable dataframe\n",
    "y = df[target].copy(deep=True)\n",
    "# possible explanatory variables\n",
    "X = df[ind_var_cols].copy(deep=True)\n",
    "\n",
    "for col in cat_cols:\n",
    "    print(df[col].unique())"
   ]
  },
  {
   "cell_type": "markdown",
   "id": "a9a22faa-e06d-4330-ab28-4e6517b3e44c",
   "metadata": {},
   "source": [
    "Set up dictionaries based on the above unique values in the data set. Code adapted from Section 3.6 of Larose & Larose (2019). `Gender`, `Marital`, and `Initial_admin` will be handled in the next code block."
   ]
  },
  {
   "cell_type": "code",
   "execution_count": 11,
   "id": "e8435149-37fb-4512-83ff-f875984a4ada",
   "metadata": {
    "tags": []
   },
   "outputs": [
    {
     "name": "stdout",
     "output_type": "stream",
     "text": [
      "   Population  Children  Age    Income  VitD_levels  Gender        Marital  \\\n",
      "0        2951         1   53  86575.93    19.141466    Male       Divorced   \n",
      "1       11303         3   51  46805.99    18.940352  Female        Married   \n",
      "2       17125         3   53  14370.14    18.057507  Female        Widowed   \n",
      "3        2162         0   78  39741.49    16.576858    Male        Married   \n",
      "5         981         3   76  81999.88    19.612646    Male  Never Married   \n",
      "\n",
      "   Soft_drink  HighBlood  Complication_risk  ...  Arthritis  Diabetes  \\\n",
      "0           0          1                  2  ...          1         1   \n",
      "1           0          1                  3  ...          0         0   \n",
      "2           0          1                  2  ...          0         1   \n",
      "3           0          0                  2  ...          1         0   \n",
      "5           0          0                  2  ...          1         1   \n",
      "\n",
      "   Hyperlipidemia  Stroke  BackPain  Anxiety  Allergic_rhinitis  \\\n",
      "0               0       0         1        1                  1   \n",
      "1               0       0         0        0                  0   \n",
      "2               0       0         0        0                  0   \n",
      "3               0       1         0        0                  0   \n",
      "5               0       0         1        0                  1   \n",
      "\n",
      "   Reflux_esophagitis  Asthma          Initial_admin  \n",
      "0                   0       1    Emergency Admission  \n",
      "1                   1       0    Emergency Admission  \n",
      "2                   0       0     Elective Admission  \n",
      "3                   1       1     Elective Admission  \n",
      "5                   0       0  Observation Admission  \n",
      "\n",
      "[5 rows x 21 columns]\n"
     ]
    }
   ],
   "source": [
    "dict_compl = {\"Low\": 1, \"Medium\": 2, \"High\": 3}\n",
    "dict_yn = {\"Yes\": 1, \"No\": 0}\n",
    "replace_dict = {'Soft_drink': dict_yn, 'HighBlood': dict_yn, 'Stroke': dict_yn, 'Complication_risk':dict_compl, 'Overweight': dict_yn,\n",
    "                'Arthritis': dict_yn, 'Diabetes': dict_yn, 'Hyperlipidemia': dict_yn, 'BackPain': dict_yn, 'Anxiety': dict_yn, \n",
    "                'Allergic_rhinitis': dict_yn, 'Reflux_esophagitis': dict_yn, 'Asthma': dict_yn}\n",
    "X.replace(replace_dict, inplace = True)\n",
    "print(X.head())\n",
    "#y.replace(dict_yn, inplace = True)\n",
    "#y.head()"
   ]
  },
  {
   "cell_type": "markdown",
   "id": "375ed603-b338-41a3-9a20-a87ca877e301",
   "metadata": {},
   "source": [
    "Set up dummy one-hot variables for `Gender`, `Marital` & `Initial_admin`. \n",
    "Per Dr. Middleton, using k-1 columns via the drop_first parameter in order to mitigate multicollinearity (2022). In this case, 'Divorced' is represented by 0's in all `Marital_*` columns. Similarly, 'Elective Admission' is represented by 0's in all `Initial_admin_*` columns."
   ]
  },
  {
   "cell_type": "code",
   "execution_count": 12,
   "id": "b93a1254-cc36-486a-b50d-1599e9447631",
   "metadata": {
    "tags": []
   },
   "outputs": [],
   "source": [
    "X = pd.get_dummies(X, columns=['Gender', 'Marital', 'Initial_admin'], drop_first=True)\n",
    "# replace column names in cat_cols list\n",
    "cat_cols.remove('Gender')\n",
    "cat_cols.remove('Marital')\n",
    "cat_cols.remove('Initial_admin')\n",
    "for col in ['Gender_Male', 'Gender_Nonbinary', 'Marital_Married', 'Marital_Never Married', 'Marital_Separated', 'Marital_Widowed', \n",
    "                'Initial_admin_Emergency Admission', 'Initial_admin_Observation Admission'] :\n",
    "    cat_cols.append(col)\n",
    "\n"
   ]
  },
  {
   "cell_type": "markdown",
   "id": "978ecaf4-7c0c-436e-82d4-b24c3b8e66a0",
   "metadata": {},
   "source": [
    "### Logarithmic Transformations\n",
    "I showed above that taking the log of `Population` and `Income` provide more normally-distributed populations.  I will replace these columns in the model data with the log othe original values."
   ]
  },
  {
   "cell_type": "code",
   "execution_count": 13,
   "id": "5829ef9c-ae06-4fb8-8c8d-54bcad1852d7",
   "metadata": {
    "tags": []
   },
   "outputs": [
    {
     "data": {
      "text/html": [
       "<div>\n",
       "<style scoped>\n",
       "    .dataframe tbody tr th:only-of-type {\n",
       "        vertical-align: middle;\n",
       "    }\n",
       "\n",
       "    .dataframe tbody tr th {\n",
       "        vertical-align: top;\n",
       "    }\n",
       "\n",
       "    .dataframe thead th {\n",
       "        text-align: right;\n",
       "    }\n",
       "</style>\n",
       "<table border=\"1\" class=\"dataframe\">\n",
       "  <thead>\n",
       "    <tr style=\"text-align: right;\">\n",
       "      <th></th>\n",
       "      <th>logPop</th>\n",
       "      <th>Children</th>\n",
       "      <th>Age</th>\n",
       "      <th>logIncome</th>\n",
       "      <th>VitD_levels</th>\n",
       "      <th>Soft_drink</th>\n",
       "      <th>HighBlood</th>\n",
       "      <th>Complication_risk</th>\n",
       "      <th>Overweight</th>\n",
       "      <th>Arthritis</th>\n",
       "      <th>...</th>\n",
       "      <th>Reflux_esophagitis</th>\n",
       "      <th>Asthma</th>\n",
       "      <th>Gender_Male</th>\n",
       "      <th>Gender_Nonbinary</th>\n",
       "      <th>Marital_Married</th>\n",
       "      <th>Marital_Never Married</th>\n",
       "      <th>Marital_Separated</th>\n",
       "      <th>Marital_Widowed</th>\n",
       "      <th>Initial_admin_Emergency Admission</th>\n",
       "      <th>Initial_admin_Observation Admission</th>\n",
       "    </tr>\n",
       "  </thead>\n",
       "  <tbody>\n",
       "    <tr>\n",
       "      <th>0</th>\n",
       "      <td>7.989899</td>\n",
       "      <td>1</td>\n",
       "      <td>53</td>\n",
       "      <td>11.368777</td>\n",
       "      <td>19.141466</td>\n",
       "      <td>0</td>\n",
       "      <td>1</td>\n",
       "      <td>2</td>\n",
       "      <td>0</td>\n",
       "      <td>1</td>\n",
       "      <td>...</td>\n",
       "      <td>0</td>\n",
       "      <td>1</td>\n",
       "      <td>1</td>\n",
       "      <td>0</td>\n",
       "      <td>0</td>\n",
       "      <td>0</td>\n",
       "      <td>0</td>\n",
       "      <td>0</td>\n",
       "      <td>1</td>\n",
       "      <td>0</td>\n",
       "    </tr>\n",
       "    <tr>\n",
       "      <th>1</th>\n",
       "      <td>9.332823</td>\n",
       "      <td>3</td>\n",
       "      <td>51</td>\n",
       "      <td>10.753766</td>\n",
       "      <td>18.940352</td>\n",
       "      <td>0</td>\n",
       "      <td>1</td>\n",
       "      <td>3</td>\n",
       "      <td>1</td>\n",
       "      <td>0</td>\n",
       "      <td>...</td>\n",
       "      <td>1</td>\n",
       "      <td>0</td>\n",
       "      <td>0</td>\n",
       "      <td>0</td>\n",
       "      <td>1</td>\n",
       "      <td>0</td>\n",
       "      <td>0</td>\n",
       "      <td>0</td>\n",
       "      <td>1</td>\n",
       "      <td>0</td>\n",
       "    </tr>\n",
       "    <tr>\n",
       "      <th>2</th>\n",
       "      <td>9.748295</td>\n",
       "      <td>3</td>\n",
       "      <td>53</td>\n",
       "      <td>9.572908</td>\n",
       "      <td>18.057507</td>\n",
       "      <td>0</td>\n",
       "      <td>1</td>\n",
       "      <td>2</td>\n",
       "      <td>1</td>\n",
       "      <td>0</td>\n",
       "      <td>...</td>\n",
       "      <td>0</td>\n",
       "      <td>0</td>\n",
       "      <td>0</td>\n",
       "      <td>0</td>\n",
       "      <td>0</td>\n",
       "      <td>0</td>\n",
       "      <td>0</td>\n",
       "      <td>1</td>\n",
       "      <td>0</td>\n",
       "      <td>0</td>\n",
       "    </tr>\n",
       "    <tr>\n",
       "      <th>3</th>\n",
       "      <td>7.678789</td>\n",
       "      <td>0</td>\n",
       "      <td>78</td>\n",
       "      <td>10.590151</td>\n",
       "      <td>16.576858</td>\n",
       "      <td>0</td>\n",
       "      <td>0</td>\n",
       "      <td>2</td>\n",
       "      <td>0</td>\n",
       "      <td>1</td>\n",
       "      <td>...</td>\n",
       "      <td>1</td>\n",
       "      <td>1</td>\n",
       "      <td>1</td>\n",
       "      <td>0</td>\n",
       "      <td>1</td>\n",
       "      <td>0</td>\n",
       "      <td>0</td>\n",
       "      <td>0</td>\n",
       "      <td>0</td>\n",
       "      <td>0</td>\n",
       "    </tr>\n",
       "    <tr>\n",
       "      <th>5</th>\n",
       "      <td>6.888572</td>\n",
       "      <td>3</td>\n",
       "      <td>76</td>\n",
       "      <td>11.314473</td>\n",
       "      <td>19.612646</td>\n",
       "      <td>0</td>\n",
       "      <td>0</td>\n",
       "      <td>2</td>\n",
       "      <td>1</td>\n",
       "      <td>1</td>\n",
       "      <td>...</td>\n",
       "      <td>0</td>\n",
       "      <td>0</td>\n",
       "      <td>1</td>\n",
       "      <td>0</td>\n",
       "      <td>0</td>\n",
       "      <td>1</td>\n",
       "      <td>0</td>\n",
       "      <td>0</td>\n",
       "      <td>0</td>\n",
       "      <td>1</td>\n",
       "    </tr>\n",
       "  </tbody>\n",
       "</table>\n",
       "<p>5 rows × 26 columns</p>\n",
       "</div>"
      ],
      "text/plain": [
       "     logPop  Children  Age  logIncome  VitD_levels  Soft_drink  HighBlood  \\\n",
       "0  7.989899         1   53  11.368777    19.141466           0          1   \n",
       "1  9.332823         3   51  10.753766    18.940352           0          1   \n",
       "2  9.748295         3   53   9.572908    18.057507           0          1   \n",
       "3  7.678789         0   78  10.590151    16.576858           0          0   \n",
       "5  6.888572         3   76  11.314473    19.612646           0          0   \n",
       "\n",
       "   Complication_risk  Overweight  Arthritis  ...  Reflux_esophagitis  Asthma  \\\n",
       "0                  2           0          1  ...                   0       1   \n",
       "1                  3           1          0  ...                   1       0   \n",
       "2                  2           1          0  ...                   0       0   \n",
       "3                  2           0          1  ...                   1       1   \n",
       "5                  2           1          1  ...                   0       0   \n",
       "\n",
       "   Gender_Male  Gender_Nonbinary  Marital_Married  Marital_Never Married  \\\n",
       "0            1                 0                0                      0   \n",
       "1            0                 0                1                      0   \n",
       "2            0                 0                0                      0   \n",
       "3            1                 0                1                      0   \n",
       "5            1                 0                0                      1   \n",
       "\n",
       "   Marital_Separated  Marital_Widowed  Initial_admin_Emergency Admission  \\\n",
       "0                  0                0                                  1   \n",
       "1                  0                0                                  1   \n",
       "2                  0                1                                  0   \n",
       "3                  0                0                                  0   \n",
       "5                  0                0                                  0   \n",
       "\n",
       "   Initial_admin_Observation Admission  \n",
       "0                                    0  \n",
       "1                                    0  \n",
       "2                                    0  \n",
       "3                                    0  \n",
       "5                                    1  \n",
       "\n",
       "[5 rows x 26 columns]"
      ]
     },
     "execution_count": 13,
     "metadata": {},
     "output_type": "execute_result"
    }
   ],
   "source": [
    "X['Population'] = np.log(X.Population)\n",
    "X['Income'] = np.log(X.Income)\n",
    "X.rename(columns={'Population': 'logPop', 'Income': 'logIncome'}, inplace=True)\n",
    "\n",
    "# Replace names in quant_cols list\n",
    "quant_cols=['logPop', 'Children', 'Age', 'logIncome', 'VitD_levels'] #, 'Doc_visits', 'Initial_days', 'vitD_supp', 'Full_meals_eaten']\n",
    "\n",
    "ind_var_cols = quant_cols + cat_cols\n",
    "\n",
    "X.head()"
   ]
  },
  {
   "cell_type": "markdown",
   "id": "0bbd8c1e-e093-4e76-bc76-33d572931351",
   "metadata": {},
   "source": [
    "## Section C4\n",
    "### Output clean data set"
   ]
  },
  {
   "cell_type": "code",
   "execution_count": 14,
   "id": "dfaf3ab6-adcd-4723-979c-b6e1ffb33b2c",
   "metadata": {
    "tags": []
   },
   "outputs": [],
   "source": [
    "df_out = pd.concat([y, X], axis=1)\n",
    "\n",
    "df_out.to_csv('lasso_clean_medical_data.csv', index=False)"
   ]
  },
  {
   "cell_type": "markdown",
   "id": "c7336b1d-b52b-4ec2-b6fe-06d3910e763c",
   "metadata": {},
   "source": [
    "## Section D1\n",
    "### Split the data into training/testing"
   ]
  },
  {
   "cell_type": "code",
   "execution_count": 15,
   "id": "2274ef07-9181-4c62-b5c4-53c97d204af5",
   "metadata": {
    "tags": []
   },
   "outputs": [],
   "source": [
    "# Code ref: Kirenz tutorial (2021)\n",
    "\n",
    "# Split the data into training and test sets\n",
    "X_train, X_test, y_train, y_test = train_test_split(X, y, test_size=0.2, random_state=SEED)"
   ]
  },
  {
   "cell_type": "markdown",
   "id": "79eb1187-2006-4d34-bf23-73baa417c2e6",
   "metadata": {},
   "source": [
    "## Section D2 - Data Analysis\n",
    "\n",
    "#### Scale quantitative variables"
   ]
  },
  {
   "cell_type": "code",
   "execution_count": 16,
   "id": "44958208-09ec-4f10-83e9-8d6dde775180",
   "metadata": {},
   "outputs": [
    {
     "name": "stdout",
     "output_type": "stream",
     "text": [
      "        logPop  Children       Age  logIncome  VitD_levels  Soft_drink  \\\n",
      "8929 -0.638627  0.884202  1.529785  -0.129063     1.011802           0   \n",
      "3208 -0.685303 -0.973554 -1.518166   0.526087    -1.357321           0   \n",
      "271   0.586009 -0.509115  1.626546   0.667167     0.093686           1   \n",
      "6996  0.951148  0.419763 -0.985984  -0.290782     0.362740           0   \n",
      "5881 -1.495704 -0.044676  1.674926   1.180004    -1.038648           0   \n",
      "\n",
      "      HighBlood  Complication_risk  Overweight  Arthritis  ...  \\\n",
      "8929          0                  3           1          0  ...   \n",
      "3208          0                  2           0          0  ...   \n",
      "271           1                  3           1          0  ...   \n",
      "6996          0                  3           1          1  ...   \n",
      "5881          1                  2           0          1  ...   \n",
      "\n",
      "      Reflux_esophagitis  Asthma  Gender_Male  Gender_Nonbinary  \\\n",
      "8929                   1       0            0                 0   \n",
      "3208                   0       0            1                 0   \n",
      "271                    0       0            1                 0   \n",
      "6996                   1       0            1                 0   \n",
      "5881                   1       1            0                 0   \n",
      "\n",
      "      Marital_Married  Marital_Never Married  Marital_Separated  \\\n",
      "8929                0                      0                  1   \n",
      "3208                1                      0                  0   \n",
      "271                 0                      0                  0   \n",
      "6996                0                      0                  0   \n",
      "5881                0                      0                  0   \n",
      "\n",
      "      Marital_Widowed  Initial_admin_Emergency Admission  \\\n",
      "8929                0                                  0   \n",
      "3208                0                                  0   \n",
      "271                 0                                  1   \n",
      "6996                0                                  1   \n",
      "5881                1                                  1   \n",
      "\n",
      "      Initial_admin_Observation Admission  \n",
      "8929                                    1  \n",
      "3208                                    0  \n",
      "271                                     0  \n",
      "6996                                    0  \n",
      "5881                                    0  \n",
      "\n",
      "[5 rows x 26 columns]\n",
      "8929    14474.430000\n",
      "3208     3903.626993\n",
      "271     29795.622460\n",
      "6996     6589.210000\n",
      "5881    29097.050000\n",
      "Name: Additional_charges, dtype: float64\n"
     ]
    }
   ],
   "source": [
    "# Scale only the quantitative features using StandardScaler / ColumnTransformer\n",
    "# code ref: scikit-learn User Guide, section 6.1.4\n",
    "\n",
    "\n",
    "scaler = ColumnTransformer(\n",
    "        [('scl', StandardScaler(), quant_cols)], remainder=\"drop\")\n",
    "\n",
    "\n",
    "#Transform training/test data\n",
    "X_train[quant_cols] = scaler.fit_transform(X_train)\n",
    "X_test[quant_cols] = scaler.transform(X_test)\n",
    "\n",
    "print(X_train.head())\n",
    "print(y_train.head())"
   ]
  },
  {
   "cell_type": "markdown",
   "id": "4f743353-4afb-4281-95ae-d6896c885f54",
   "metadata": {},
   "source": [
    "### LASSO Regressor Fit & Evaluate\n",
    "Start with arbitrary alpha of 1. Also instantiate an OLS model for comparison."
   ]
  },
  {
   "cell_type": "code",
   "execution_count": 17,
   "id": "18e47f19-ecac-49e4-9960-300fcc16000e",
   "metadata": {
    "tags": []
   },
   "outputs": [],
   "source": [
    "ols=LinearRegression()\n",
    "_ = ols.fit(X_train, y_train)\n",
    "\n",
    "# Code ref: (Kirenz, 2021)\n",
    "\n",
    "reg = Lasso(alpha=1)\n",
    "_ = reg.fit(X_train, y_train)"
   ]
  },
  {
   "cell_type": "code",
   "execution_count": 18,
   "id": "72027149-6b91-4285-88bc-5308a2915dcc",
   "metadata": {
    "tags": []
   },
   "outputs": [
    {
     "name": "stdout",
     "output_type": "stream",
     "text": [
      "OLS R squared training set: 0.938324\n",
      "OLS R squared test set: 0.938494\n",
      "\n",
      "Initial LASSO R squared training set: 0.938320\n",
      "Initial LASSO R squared test set: 0.938520\n"
     ]
    }
   ],
   "source": [
    "print('OLS R squared training set: {:5f}'.format(ols.score(X_train, y_train)))\n",
    "print('OLS R squared test set: {:5f}'.format(ols.score(X_test, y_test)))\n",
    "print()\n",
    "print('Initial LASSO R squared training set: {:5f}'.format(reg.score(X_train, y_train)))\n",
    "print('Initial LASSO R squared test set: {:5f}'.format(reg.score(X_test, y_test)))"
   ]
  },
  {
   "cell_type": "code",
   "execution_count": 19,
   "id": "f2aea71a-6893-440b-add9-23b0bb4ff0f3",
   "metadata": {
    "tags": []
   },
   "outputs": [
    {
     "name": "stdout",
     "output_type": "stream",
     "text": [
      "OLS MSE training set: 2.6270e+06\n",
      "OLS MSE test set: 2.6751e+06\n",
      "\n",
      "Initial LASSO MSE training set: 2.6272e+06\n",
      "Initial LASSO MSE test set: 2.6751e+06\n"
     ]
    }
   ],
   "source": [
    "# OLS Training data MSE\n",
    "y_pred_ols_train = ols.predict(X_train)\n",
    "mse_ols_train = mean_squared_error(y_train, y_pred_ols_train)\n",
    "print('OLS MSE training set: {:.4e}'.format(mse_ols_train))\n",
    "\n",
    "# OLS Test data MSE\n",
    "y_pred_ols_test = reg.predict(X_test)\n",
    "mse_ols_test = mean_squared_error(y_test, y_pred_ols_test)\n",
    "print('OLS MSE test set: {:.4e}'.format(mse_ols_test))\n",
    "\n",
    "print()\n",
    "# Training data MSE\n",
    "y_pred_train = reg.predict(X_train)\n",
    "mse_train = mean_squared_error(y_train, y_pred_train)\n",
    "print('Initial LASSO MSE training set: {:.4e}'.format(mse_train))\n",
    "\n",
    "# Test data MSE\n",
    "y_pred_test = reg.predict(X_test)\n",
    "mse_test = mean_squared_error(y_test, y_pred_test)\n",
    "print('Initial LASSO MSE test set: {:.4e}'.format(mse_test))"
   ]
  },
  {
   "cell_type": "markdown",
   "id": "a89626e5-abac-4a03-80c5-e68623c9a41b",
   "metadata": {},
   "source": [
    "#### Choose best hyperparameter α"
   ]
  },
  {
   "cell_type": "code",
   "execution_count": 20,
   "id": "0c6e5349-0347-4155-8924-c9d2ba808ab4",
   "metadata": {
    "tags": []
   },
   "outputs": [
    {
     "name": "stdout",
     "output_type": "stream",
     "text": [
      "Best alpha: 8.067\n"
     ]
    }
   ],
   "source": [
    "# Find best α using cross-validation - code ref: (Kirenz, 2021); (scikit API, LassoCV, 2023)\n",
    "alphas = np.logspace(-2,2,10000)\n",
    "model = LassoCV(cv=5, alphas=alphas, selection='random', random_state=SEED)\n",
    "model.fit(X_train, y_train)\n",
    "print('Best alpha: {:.3f}'.format(model.alpha_))\n",
    "#print(model.alphas_)"
   ]
  },
  {
   "cell_type": "markdown",
   "id": "670d7d6e-4ef7-43f7-8b06-45cedca5ef61",
   "metadata": {},
   "source": [
    "#### Plot MSE vs α curve for model"
   ]
  },
  {
   "cell_type": "code",
   "execution_count": 21,
   "id": "180e169e-9640-4c4c-aa6c-910bc76915e1",
   "metadata": {
    "tags": []
   },
   "outputs": [
    {
     "data": {
      "image/png": "[encoded data removed]",
      "text/plain": [
       "<Figure size 640x480 with 1 Axes>"
      ]
     },
     "metadata": {},
     "output_type": "display_data"
    }
   ],
   "source": [
    "#Code ref: (Kirenz, 2021).\n",
    "plt.semilogx(model.alphas_, model.mse_path_, \":\")\n",
    "plt.plot(\n",
    "    model.alphas_ ,\n",
    "    model.mse_path_.mean(axis=-1),\n",
    "    \"k\",\n",
    "    label=\"Average across the folds\",\n",
    "    linewidth=2,\n",
    ")\n",
    "plt.axvline(\n",
    "    model.alpha_, linestyle=\"--\", color=\"k\", label=\"alpha: CV estimate\"\n",
    ")\n",
    "\n",
    "plt.legend()\n",
    "plt.xlabel(\"alphas\")\n",
    "plt.ylabel(\"Mean square error\")\n",
    "plt.title(\"Mean square error on each fold\")\n",
    "plt.axis(\"tight\")\n",
    "plt.show()\n"
   ]
  },
  {
   "cell_type": "markdown",
   "id": "cea957f0-29f9-4c70-babb-1216459f180b",
   "metadata": {},
   "source": [
    "## Section E1 - Evaluation \n",
    "#### Calculate R<sup>2</sup>, MSE for LASSO using best α"
   ]
  },
  {
   "cell_type": "code",
   "execution_count": 22,
   "id": "35813576-293e-466a-ae88-232021a24f62",
   "metadata": {
    "tags": []
   },
   "outputs": [
    {
     "name": "stdout",
     "output_type": "stream",
     "text": [
      "Best LASSO R squared training set: 0.938223\n",
      "Best LASSO R squared test set: 0.938562\n",
      "OLS R squared test set: 0.938494\n",
      "\n",
      "Best LASSO MSE training set: 2.6313e+06\n",
      "Best LASSO MSE test set: 2.6732e+06\n",
      "OLS MSE test set: 2.6751e+06\n",
      "\n",
      "Mean target value (y-bar): 12946\n",
      "Best LASSO RMSE: 1635\n"
     ]
    }
   ],
   "source": [
    "bestLasso = Lasso(alpha=model.alpha_)\n",
    "_ = bestLasso.fit(X_train, y_train)\n",
    "\n",
    "print('Best LASSO R squared training set: {:5f}'.format(bestLasso.score(X_train, y_train)))\n",
    "print('Best LASSO R squared test set: {:5f}'.format(bestLasso.score(X_test, y_test)))\n",
    "print('OLS R squared test set: {:5f}'.format(ols.score(X_test, y_test)))\n",
    "print()\n",
    "\n",
    "# Training data MSE\n",
    "y_pred_train = bestLasso.predict(X_train)\n",
    "mse_train = mean_squared_error(y_train, y_pred_train)\n",
    "print('Best LASSO MSE training set: {:.4e}'.format(mse_train))\n",
    "\n",
    "# Test data MSE\n",
    "y_pred_test = bestLasso.predict(X_test)\n",
    "mse_test = mean_squared_error(y_test, y_pred_test)\n",
    "print('Best LASSO MSE test set: {:.4e}'.format(mse_test))\n",
    "print('OLS MSE test set: {:.4e}'.format(mse_ols_test))\n",
    "print()\n",
    "print('Mean target value (y-bar): {:.0f}'.format(np.mean(y)))\n",
    "print('Best LASSO RMSE: {:.0f}'.format(mse_test**0.5))\n"
   ]
  },
  {
   "cell_type": "markdown",
   "id": "e61c123f-1717-4994-93d6-6d4057e9a7c1",
   "metadata": {},
   "source": [
    "### Reduced coefficients"
   ]
  },
  {
   "cell_type": "code",
   "execution_count": 23,
   "id": "1dd0fbba-b691-4b1c-8c3e-5c5643d05b45",
   "metadata": {
    "tags": []
   },
   "outputs": [
    {
     "name": "stdout",
     "output_type": "stream",
     "text": [
      "Coefficients in OLS model:\n",
      "(8608.613250878576, 'HighBlood')\n",
      "(4654.369026173942, 'Age')\n",
      "(466.69100552927364, 'Initial_admin_Emergency Admission')\n",
      "(335.7423742214914, 'Stroke')\n",
      "(250.9280262911699, 'Complication_risk')\n",
      "(181.86478578230617, 'Gender_Male')\n",
      "(-101.63463699684416, 'Initial_admin_Observation Admission')\n",
      "(99.14169133842198, 'Marital_Never Married')\n",
      "(-89.18314593180995, 'Arthritis')\n",
      "(57.931482706289124, 'Gender_Nonbinary')\n",
      "(55.959409868316534, 'Soft_drink')\n",
      "(50.65415162785037, 'Marital_Widowed')\n",
      "(48.417436501004005, 'logPop')\n",
      "(42.99165998737678, 'Marital_Married')\n",
      "(38.223729282528794, 'Asthma')\n",
      "(36.670288941258214, 'Overweight')\n",
      "(33.04356551118851, 'Children')\n",
      "(27.68160327206548, 'Reflux_esophagitis')\n",
      "(-27.417433494789954, 'VitD_levels')\n",
      "(-25.305470126215955, 'BackPain')\n",
      "(22.052314785898645, 'Anxiety')\n",
      "(8.05442334390675, 'Allergic_rhinitis')\n",
      "(-6.986132554463393, 'logIncome')\n",
      "(4.299075662694251, 'Diabetes')\n",
      "(0.96129808703725, 'Hyperlipidemia')\n",
      "(0.1773311866765706, 'Marital_Separated')\n",
      "\n",
      "Coefficients in Best LASSO model:\n",
      "(8576.473473028216, 'HighBlood')\n",
      "(4645.899219999977, 'Age')\n",
      "(448.47059259625206, 'Initial_admin_Emergency Admission')\n",
      "(283.14948906490457, 'Stroke')\n",
      "(238.08244024523586, 'Complication_risk')\n",
      "(146.72939566038252, 'Gender_Male')\n",
      "(-72.22754086108543, 'Initial_admin_Observation Admission')\n",
      "(-52.5034576304705, 'Arthritis')\n",
      "(40.39870141054641, 'logPop')\n",
      "(25.170971373101413, 'Children')\n",
      "(22.642715351389526, 'Marital_Never Married')\n",
      "(-18.799100024415793, 'VitD_levels')\n",
      "(14.486037611936835, 'Soft_drink')\n",
      "(0.5563619969643642, 'Asthma')\n",
      "(-0.0, 'logIncome')\n",
      "(0.0, 'Reflux_esophagitis')\n",
      "(0.0, 'Overweight')\n",
      "(0.0, 'Marital_Widowed')\n",
      "(-0.0, 'Marital_Separated')\n",
      "(0.0, 'Marital_Married')\n",
      "(0.0, 'Hyperlipidemia')\n",
      "(0.0, 'Gender_Nonbinary')\n",
      "(0.0, 'Diabetes')\n",
      "(-0.0, 'BackPain')\n",
      "(0.0, 'Anxiety')\n",
      "(0.0, 'Allergic_rhinitis')\n",
      "\n"
     ]
    }
   ],
   "source": [
    "#Code refs: (Kirenz, 2021; Bengtsson, 2013).\n",
    "print('Coefficients in OLS model:')\n",
    "[print(line) for line in sorted(list(zip(ols.coef_, X)), key=lambda x: (abs(x[0]), x[1]), reverse=True)]\n",
    "print()\n",
    "print('Coefficients in Best LASSO model:')\n",
    "[print(line2) for line2 in sorted(list(zip(bestLasso.coef_, X)), key=lambda x: (abs(x[0]), x[1]), reverse=True)]\n",
    "print()"
   ]
  },
  {
   "cell_type": "code",
   "execution_count": 24,
   "id": "160618ec-7316-4f6a-9238-c25beb2992c0",
   "metadata": {
    "tags": []
   },
   "outputs": [],
   "source": [
    "# Output test / train data\n",
    "\n",
    "df_train_out = pd.concat([y_train, X_train], axis=1)\n",
    "df_test_out = pd.concat([y_test, X_test], axis=1)\n",
    "df_test_preds = pd.concat([y_test, pd.DataFrame(y_pred_test, index=y_test.index, columns=['Predictions'])], axis=1)\n",
    "\n",
    "_=df_train_out.to_csv('lasso_train_medical_data.csv', index=False)\n",
    "_=df_test_out.to_csv('lasso_test_medical_data.csv', index=False)\n",
    "_=df_test_preds.to_csv('lasso_testpreds_medical_data.csv')\n",
    "\n"
   ]
  },
  {
   "cell_type": "code",
   "execution_count": null,
   "id": "667452fa-43f5-44b6-b22f-c92b5247b0cb",
   "metadata": {},
   "outputs": [],
   "source": []
  }
 ],
 "metadata": {
  "kernelspec": {
   "display_name": "Python 3 (ipykernel)",
   "language": "python",
   "name": "python3"
  },
  "language_info": {
   "codemirror_mode": {
    "name": "ipython",
    "version": 3
   },
   "file_extension": ".py",
   "mimetype": "text/x-python",
   "name": "python",
   "nbconvert_exporter": "python",
   "pygments_lexer": "ipython3",
   "version": "3.11.3"
  }
 },
 "nbformat": 4,
 "nbformat_minor": 5
}
